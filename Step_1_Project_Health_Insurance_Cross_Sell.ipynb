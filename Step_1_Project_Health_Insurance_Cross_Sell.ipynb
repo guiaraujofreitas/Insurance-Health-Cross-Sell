{
 "cells": [
  {
   "cell_type": "markdown",
   "id": "c622e8d7",
   "metadata": {
    "ExecuteTime": {
     "end_time": "2022-09-03T21:39:18.840141Z",
     "start_time": "2022-09-03T21:39:17.518890Z"
    }
   },
   "source": [
    "# 0.0 "
   ]
  },
  {
   "cell_type": "markdown",
   "id": "9f3e43ec",
   "metadata": {},
   "source": [
    "1- Principais Insights sobre os atributos mais relevantes de clientes interessados em adquirir um seguro de automóvel.\n",
    "\n",
    "2- Qual a porcentagem de clientes interessados em adquirir um seguro de automóvel, o time de vendas conseguirá contatar fazendo 20.000 ligações?\n",
    "\n",
    "3- E se a capacidade do time de vendas aumentar para 40.000 ligações, qual a porcentagem de clientes interessados em adquirir um seguro de automóvel o time de vendas conseguirá contatar?\n",
    "\n",
    "4- Quantas ligações o time de vendas precisa fazer para contatar 80% dos clientes interessados em adquirir um seguro de automóvel?"
   ]
  },
  {
   "cell_type": "markdown",
   "id": "ac90c29a",
   "metadata": {},
   "source": [
    "* Problema de Negócio: Saber quantas pessoas que tem seguro de saúde tem mais chance em comprar um seguro de automóvel\n",
    "\n",
    "#####################################################################\n",
    "\n",
    "* Objetivo do projeto: Indentificar quais são os clientes mais propensos em adquirir um seguro automativo"
   ]
  },
  {
   "cell_type": "markdown",
   "id": "f4bb2e9d",
   "metadata": {},
   "source": [
    "# 0.1 IMPORTS "
   ]
  },
  {
   "cell_type": "code",
   "execution_count": 1,
   "id": "aa8c1c8d",
   "metadata": {
    "ExecuteTime": {
     "end_time": "2022-09-07T14:07:38.044989Z",
     "start_time": "2022-09-07T14:07:34.521843Z"
    }
   },
   "outputs": [],
   "source": [
    "import pandas as pd\n",
    "import numpy as np\n",
    "import seaborn as sns\n",
    "\n",
    "from matplotlib import pyplot as plt\n",
    "from IPython.core.display    import HTML"
   ]
  },
  {
   "cell_type": "markdown",
   "id": "2e587b24",
   "metadata": {},
   "source": [
    "# 0.2 HELPS FUNCTIONS"
   ]
  },
  {
   "cell_type": "code",
   "execution_count": 2,
   "id": "8eaf891f",
   "metadata": {
    "ExecuteTime": {
     "end_time": "2022-09-07T14:07:41.840172Z",
     "start_time": "2022-09-07T14:07:41.815238Z"
    }
   },
   "outputs": [],
   "source": [
    "def jupyter_settings():\n",
    "    %matplotlib inline\n",
    "    %pylab inline\n",
    "    \n",
    "    plt.style.use( 'bmh' )\n",
    "    plt.rcParams['figure.figsize'] = [25, 12]\n",
    "    plt.rcParams['font.size'] = 24\n",
    "    \n",
    "    display( HTML( '<style>.container { width:100% !important; }</style>') )\n",
    "    pd.options.display.max_columns = None\n",
    "    pd.options.display.max_rows = None\n",
    "    pd.set_option( 'display.expand_frame_repr', False )\n",
    "    \n",
    "    sns.set()"
   ]
  },
  {
   "cell_type": "code",
   "execution_count": 3,
   "id": "4496554f",
   "metadata": {
    "ExecuteTime": {
     "end_time": "2022-09-07T14:07:43.772386Z",
     "start_time": "2022-09-07T14:07:43.702881Z"
    }
   },
   "outputs": [
    {
     "name": "stdout",
     "output_type": "stream",
     "text": [
      "%pylab is deprecated, use %matplotlib inline and import the required libraries.\n",
      "Populating the interactive namespace from numpy and matplotlib\n"
     ]
    },
    {
     "data": {
      "text/html": [
       "<style>.container { width:100% !important; }</style>"
      ],
      "text/plain": [
       "<IPython.core.display.HTML object>"
      ]
     },
     "metadata": {},
     "output_type": "display_data"
    }
   ],
   "source": [
    "jupyter_settings()"
   ]
  },
  {
   "cell_type": "code",
   "execution_count": 4,
   "id": "77c90db3",
   "metadata": {
    "ExecuteTime": {
     "end_time": "2022-09-07T14:08:01.068167Z",
     "start_time": "2022-09-07T14:08:01.046766Z"
    }
   },
   "outputs": [
    {
     "data": {
      "text/plain": [
       "'/home/guilherme/Documentos/repos/pa_health_cross_sell/projeto'"
      ]
     },
     "execution_count": 4,
     "metadata": {},
     "output_type": "execute_result"
    }
   ],
   "source": [
    "pwd"
   ]
  },
  {
   "cell_type": "markdown",
   "id": "921e8ab4",
   "metadata": {},
   "source": [
    "# 0.3 LOADING THE DATAS"
   ]
  },
  {
   "cell_type": "code",
   "execution_count": 5,
   "id": "abc581cc",
   "metadata": {
    "ExecuteTime": {
     "end_time": "2022-09-07T14:08:36.788745Z",
     "start_time": "2022-09-07T14:08:36.018622Z"
    }
   },
   "outputs": [
    {
     "data": {
      "text/html": [
       "<div>\n",
       "<style scoped>\n",
       "    .dataframe tbody tr th:only-of-type {\n",
       "        vertical-align: middle;\n",
       "    }\n",
       "\n",
       "    .dataframe tbody tr th {\n",
       "        vertical-align: top;\n",
       "    }\n",
       "\n",
       "    .dataframe thead th {\n",
       "        text-align: right;\n",
       "    }\n",
       "</style>\n",
       "<table border=\"1\" class=\"dataframe\">\n",
       "  <thead>\n",
       "    <tr style=\"text-align: right;\">\n",
       "      <th></th>\n",
       "      <th>id</th>\n",
       "      <th>previously_insured</th>\n",
       "      <th>annual_premium</th>\n",
       "      <th>vintage</th>\n",
       "      <th>response</th>\n",
       "      <th>gender</th>\n",
       "      <th>age</th>\n",
       "      <th>region_code</th>\n",
       "      <th>policy_sales_channel</th>\n",
       "      <th>driving_license</th>\n",
       "      <th>vehicle_age</th>\n",
       "      <th>vehicle_damage</th>\n",
       "    </tr>\n",
       "  </thead>\n",
       "  <tbody>\n",
       "    <tr>\n",
       "      <th>0</th>\n",
       "      <td>7</td>\n",
       "      <td>0</td>\n",
       "      <td>23367.0</td>\n",
       "      <td>249</td>\n",
       "      <td>0</td>\n",
       "      <td>Male</td>\n",
       "      <td>23</td>\n",
       "      <td>11.0</td>\n",
       "      <td>152.0</td>\n",
       "      <td>1</td>\n",
       "      <td>&lt; 1 Year</td>\n",
       "      <td>Yes</td>\n",
       "    </tr>\n",
       "    <tr>\n",
       "      <th>1</th>\n",
       "      <td>13</td>\n",
       "      <td>1</td>\n",
       "      <td>31409.0</td>\n",
       "      <td>221</td>\n",
       "      <td>0</td>\n",
       "      <td>Female</td>\n",
       "      <td>41</td>\n",
       "      <td>15.0</td>\n",
       "      <td>14.0</td>\n",
       "      <td>1</td>\n",
       "      <td>1-2 Year</td>\n",
       "      <td>No</td>\n",
       "    </tr>\n",
       "    <tr>\n",
       "      <th>2</th>\n",
       "      <td>18</td>\n",
       "      <td>1</td>\n",
       "      <td>46622.0</td>\n",
       "      <td>299</td>\n",
       "      <td>0</td>\n",
       "      <td>Female</td>\n",
       "      <td>25</td>\n",
       "      <td>35.0</td>\n",
       "      <td>152.0</td>\n",
       "      <td>1</td>\n",
       "      <td>&lt; 1 Year</td>\n",
       "      <td>No</td>\n",
       "    </tr>\n",
       "    <tr>\n",
       "      <th>3</th>\n",
       "      <td>31</td>\n",
       "      <td>0</td>\n",
       "      <td>2630.0</td>\n",
       "      <td>136</td>\n",
       "      <td>0</td>\n",
       "      <td>Female</td>\n",
       "      <td>26</td>\n",
       "      <td>8.0</td>\n",
       "      <td>160.0</td>\n",
       "      <td>1</td>\n",
       "      <td>&lt; 1 Year</td>\n",
       "      <td>No</td>\n",
       "    </tr>\n",
       "    <tr>\n",
       "      <th>4</th>\n",
       "      <td>39</td>\n",
       "      <td>0</td>\n",
       "      <td>42297.0</td>\n",
       "      <td>264</td>\n",
       "      <td>0</td>\n",
       "      <td>Male</td>\n",
       "      <td>45</td>\n",
       "      <td>8.0</td>\n",
       "      <td>124.0</td>\n",
       "      <td>1</td>\n",
       "      <td>1-2 Year</td>\n",
       "      <td>Yes</td>\n",
       "    </tr>\n",
       "  </tbody>\n",
       "</table>\n",
       "</div>"
      ],
      "text/plain": [
       "   id  previously_insured  annual_premium  vintage  response  gender  age  region_code  policy_sales_channel  driving_license vehicle_age vehicle_damage\n",
       "0   7                   0         23367.0      249         0    Male   23         11.0                 152.0                1    < 1 Year            Yes\n",
       "1  13                   1         31409.0      221         0  Female   41         15.0                  14.0                1    1-2 Year             No\n",
       "2  18                   1         46622.0      299         0  Female   25         35.0                 152.0                1    < 1 Year             No\n",
       "3  31                   0          2630.0      136         0  Female   26          8.0                 160.0                1    < 1 Year             No\n",
       "4  39                   0         42297.0      264         0    Male   45          8.0                 124.0                1    1-2 Year            Yes"
      ]
     },
     "execution_count": 5,
     "metadata": {},
     "output_type": "execute_result"
    }
   ],
   "source": [
    "df_raw = pd.read_csv('/home/guilherme/Documentos/repos/pa_health_cross_sell/projeto/df_raw.csv')\n",
    "df_raw.head()"
   ]
  },
  {
   "cell_type": "markdown",
   "id": "6762d989",
   "metadata": {},
   "source": [
    "# 1.0 DESCRIPTION THE DATAS"
   ]
  },
  {
   "cell_type": "code",
   "execution_count": 6,
   "id": "e9b60827",
   "metadata": {
    "ExecuteTime": {
     "end_time": "2022-09-07T14:08:41.290316Z",
     "start_time": "2022-09-07T14:08:41.265322Z"
    }
   },
   "outputs": [],
   "source": [
    "df1 = df_raw.copy(deep=True)"
   ]
  },
  {
   "cell_type": "markdown",
   "id": "098985de",
   "metadata": {},
   "source": [
    "## 1.1 RENAME COLUMNS"
   ]
  },
  {
   "cell_type": "markdown",
   "id": "d0fac9b1",
   "metadata": {},
   "source": [
    "**The columns are in format snackcase. Then not is necessary rename the columns** "
   ]
  },
  {
   "cell_type": "code",
   "execution_count": 7,
   "id": "f2c9aa7c",
   "metadata": {
    "ExecuteTime": {
     "end_time": "2022-09-07T14:08:44.838058Z",
     "start_time": "2022-09-07T14:08:44.817223Z"
    }
   },
   "outputs": [
    {
     "data": {
      "text/plain": [
       "Index(['id', 'previously_insured', 'annual_premium', 'vintage', 'response',\n",
       "       'gender', 'age', 'region_code', 'policy_sales_channel',\n",
       "       'driving_license', 'vehicle_age', 'vehicle_damage'],\n",
       "      dtype='object')"
      ]
     },
     "execution_count": 7,
     "metadata": {},
     "output_type": "execute_result"
    }
   ],
   "source": [
    "df1.columns"
   ]
  },
  {
   "cell_type": "markdown",
   "id": "4e238ba3",
   "metadata": {},
   "source": [
    "## 1.2 DATA DIMENSIONS"
   ]
  },
  {
   "cell_type": "code",
   "execution_count": 8,
   "id": "7e4035d9",
   "metadata": {
    "ExecuteTime": {
     "end_time": "2022-09-07T14:08:47.524740Z",
     "start_time": "2022-09-07T14:08:47.506633Z"
    }
   },
   "outputs": [
    {
     "name": "stdout",
     "output_type": "stream",
     "text": [
      "The number of rows: 381109\n",
      "The number of rows: 12\n"
     ]
    }
   ],
   "source": [
    "print('The number of rows: {}'.format( df1.shape[0] ) )\n",
    "print('The number of rows: {}'.format( df1.shape[1] ) )"
   ]
  },
  {
   "cell_type": "markdown",
   "id": "b15fad63",
   "metadata": {},
   "source": [
    "## 1.3 DATA TYPES"
   ]
  },
  {
   "cell_type": "code",
   "execution_count": 9,
   "id": "99e944b0",
   "metadata": {
    "ExecuteTime": {
     "end_time": "2022-09-07T14:08:51.112888Z",
     "start_time": "2022-09-07T14:08:51.099989Z"
    }
   },
   "outputs": [
    {
     "data": {
      "text/plain": [
       "id                        int64\n",
       "previously_insured        int64\n",
       "annual_premium          float64\n",
       "vintage                   int64\n",
       "response                  int64\n",
       "gender                   object\n",
       "age                       int64\n",
       "region_code             float64\n",
       "policy_sales_channel    float64\n",
       "driving_license           int64\n",
       "vehicle_age              object\n",
       "vehicle_damage           object\n",
       "dtype: object"
      ]
     },
     "execution_count": 9,
     "metadata": {},
     "output_type": "execute_result"
    }
   ],
   "source": [
    "df1.dtypes"
   ]
  },
  {
   "cell_type": "markdown",
   "id": "8740a282",
   "metadata": {},
   "source": [
    "## 1.4 CHECK NA"
   ]
  },
  {
   "cell_type": "code",
   "execution_count": 10,
   "id": "d1ba43d1",
   "metadata": {
    "ExecuteTime": {
     "end_time": "2022-09-07T14:08:54.261602Z",
     "start_time": "2022-09-07T14:08:53.988525Z"
    }
   },
   "outputs": [
    {
     "data": {
      "text/plain": [
       "id                      0\n",
       "previously_insured      0\n",
       "annual_premium          0\n",
       "vintage                 0\n",
       "response                0\n",
       "gender                  0\n",
       "age                     0\n",
       "region_code             0\n",
       "policy_sales_channel    0\n",
       "driving_license         0\n",
       "vehicle_age             0\n",
       "vehicle_damage          0\n",
       "dtype: int64"
      ]
     },
     "execution_count": 10,
     "metadata": {},
     "output_type": "execute_result"
    }
   ],
   "source": [
    "df1.isna().sum()"
   ]
  },
  {
   "cell_type": "markdown",
   "id": "61afd017",
   "metadata": {},
   "source": [
    "## 1.5 CHANGE TYPES"
   ]
  },
  {
   "cell_type": "code",
   "execution_count": 11,
   "id": "aef4ba2c",
   "metadata": {
    "ExecuteTime": {
     "end_time": "2022-09-07T14:08:57.335715Z",
     "start_time": "2022-09-07T14:08:57.276988Z"
    }
   },
   "outputs": [
    {
     "data": {
      "text/plain": [
       "id                       int64\n",
       "previously_insured       int64\n",
       "annual_premium           int64\n",
       "vintage                  int64\n",
       "response                 int64\n",
       "gender                  object\n",
       "age                      int64\n",
       "region_code              int64\n",
       "policy_sales_channel     int64\n",
       "driving_license          int64\n",
       "vehicle_age             object\n",
       "vehicle_damage          object\n",
       "dtype: object"
      ]
     },
     "execution_count": 11,
     "metadata": {},
     "output_type": "execute_result"
    }
   ],
   "source": [
    "df1['region_code']    = df1['region_code'].astype(int)\n",
    "\n",
    "df1['annual_premium'] = df1['annual_premium'].astype(int)\n",
    "\n",
    "df1['policy_sales_channel'] = df1['policy_sales_channel'].astype(int)\n",
    "\n",
    "df1.dtypes"
   ]
  },
  {
   "cell_type": "markdown",
   "id": "468583a6",
   "metadata": {},
   "source": [
    "## 1.6 DESCRIPTIVE STASTITICS "
   ]
  },
  {
   "cell_type": "code",
   "execution_count": 12,
   "id": "f815b51a",
   "metadata": {
    "ExecuteTime": {
     "end_time": "2022-09-07T14:09:00.182266Z",
     "start_time": "2022-09-07T14:09:00.166893Z"
    }
   },
   "outputs": [],
   "source": [
    "num_attributes = df1.select_dtypes(include = 'int64')\n",
    "cat_attributes = df1.select_dtypes(exclude = 'int64')"
   ]
  },
  {
   "cell_type": "markdown",
   "id": "d56a8391",
   "metadata": {},
   "source": [
    "## 1.7 NUMERIC ATTRIBUTES"
   ]
  },
  {
   "cell_type": "code",
   "execution_count": 13,
   "id": "684808e4",
   "metadata": {
    "ExecuteTime": {
     "end_time": "2022-09-07T14:09:02.464724Z",
     "start_time": "2022-09-07T14:09:02.071757Z"
    }
   },
   "outputs": [
    {
     "data": {
      "text/html": [
       "<div>\n",
       "<style scoped>\n",
       "    .dataframe tbody tr th:only-of-type {\n",
       "        vertical-align: middle;\n",
       "    }\n",
       "\n",
       "    .dataframe tbody tr th {\n",
       "        vertical-align: top;\n",
       "    }\n",
       "\n",
       "    .dataframe thead th {\n",
       "        text-align: right;\n",
       "    }\n",
       "</style>\n",
       "<table border=\"1\" class=\"dataframe\">\n",
       "  <thead>\n",
       "    <tr style=\"text-align: right;\">\n",
       "      <th></th>\n",
       "      <th>attributes</th>\n",
       "      <th>mean</th>\n",
       "      <th>median</th>\n",
       "      <th>min</th>\n",
       "      <th>max</th>\n",
       "      <th>range</th>\n",
       "      <th>std</th>\n",
       "      <th>skew</th>\n",
       "      <th>kurtosis</th>\n",
       "    </tr>\n",
       "  </thead>\n",
       "  <tbody>\n",
       "    <tr>\n",
       "      <th>0</th>\n",
       "      <td>id</td>\n",
       "      <td>190555.000000</td>\n",
       "      <td>190555.0</td>\n",
       "      <td>1.0</td>\n",
       "      <td>381109.0</td>\n",
       "      <td>381108.0</td>\n",
       "      <td>110016.691870</td>\n",
       "      <td>-8.071174e-18</td>\n",
       "      <td>-1.200000</td>\n",
       "    </tr>\n",
       "    <tr>\n",
       "      <th>1</th>\n",
       "      <td>previously_insured</td>\n",
       "      <td>0.458210</td>\n",
       "      <td>0.0</td>\n",
       "      <td>0.0</td>\n",
       "      <td>1.0</td>\n",
       "      <td>1.0</td>\n",
       "      <td>0.498251</td>\n",
       "      <td>1.677471e-01</td>\n",
       "      <td>-1.971871</td>\n",
       "    </tr>\n",
       "    <tr>\n",
       "      <th>2</th>\n",
       "      <td>annual_premium</td>\n",
       "      <td>30564.389581</td>\n",
       "      <td>31669.0</td>\n",
       "      <td>2630.0</td>\n",
       "      <td>540165.0</td>\n",
       "      <td>537535.0</td>\n",
       "      <td>17213.132474</td>\n",
       "      <td>1.766087e+00</td>\n",
       "      <td>34.004569</td>\n",
       "    </tr>\n",
       "    <tr>\n",
       "      <th>3</th>\n",
       "      <td>vintage</td>\n",
       "      <td>154.347397</td>\n",
       "      <td>154.0</td>\n",
       "      <td>10.0</td>\n",
       "      <td>299.0</td>\n",
       "      <td>289.0</td>\n",
       "      <td>83.671194</td>\n",
       "      <td>3.029517e-03</td>\n",
       "      <td>-1.200688</td>\n",
       "    </tr>\n",
       "    <tr>\n",
       "      <th>4</th>\n",
       "      <td>response</td>\n",
       "      <td>0.122563</td>\n",
       "      <td>0.0</td>\n",
       "      <td>0.0</td>\n",
       "      <td>1.0</td>\n",
       "      <td>1.0</td>\n",
       "      <td>0.327935</td>\n",
       "      <td>2.301906e+00</td>\n",
       "      <td>3.298788</td>\n",
       "    </tr>\n",
       "    <tr>\n",
       "      <th>5</th>\n",
       "      <td>age</td>\n",
       "      <td>38.822584</td>\n",
       "      <td>36.0</td>\n",
       "      <td>20.0</td>\n",
       "      <td>85.0</td>\n",
       "      <td>65.0</td>\n",
       "      <td>15.511591</td>\n",
       "      <td>6.725390e-01</td>\n",
       "      <td>-0.565655</td>\n",
       "    </tr>\n",
       "    <tr>\n",
       "      <th>6</th>\n",
       "      <td>region_code</td>\n",
       "      <td>26.388807</td>\n",
       "      <td>28.0</td>\n",
       "      <td>0.0</td>\n",
       "      <td>52.0</td>\n",
       "      <td>52.0</td>\n",
       "      <td>13.229871</td>\n",
       "      <td>-1.152664e-01</td>\n",
       "      <td>-0.867857</td>\n",
       "    </tr>\n",
       "    <tr>\n",
       "      <th>7</th>\n",
       "      <td>policy_sales_channel</td>\n",
       "      <td>112.034295</td>\n",
       "      <td>133.0</td>\n",
       "      <td>1.0</td>\n",
       "      <td>163.0</td>\n",
       "      <td>162.0</td>\n",
       "      <td>54.203924</td>\n",
       "      <td>-9.000081e-01</td>\n",
       "      <td>-0.970810</td>\n",
       "    </tr>\n",
       "    <tr>\n",
       "      <th>8</th>\n",
       "      <td>driving_license</td>\n",
       "      <td>0.997869</td>\n",
       "      <td>1.0</td>\n",
       "      <td>0.0</td>\n",
       "      <td>1.0</td>\n",
       "      <td>1.0</td>\n",
       "      <td>0.046109</td>\n",
       "      <td>-2.159518e+01</td>\n",
       "      <td>464.354302</td>\n",
       "    </tr>\n",
       "  </tbody>\n",
       "</table>\n",
       "</div>"
      ],
      "text/plain": [
       "             attributes           mean    median     min       max     range            std          skew    kurtosis\n",
       "0                    id  190555.000000  190555.0     1.0  381109.0  381108.0  110016.691870 -8.071174e-18   -1.200000\n",
       "1    previously_insured       0.458210       0.0     0.0       1.0       1.0       0.498251  1.677471e-01   -1.971871\n",
       "2        annual_premium   30564.389581   31669.0  2630.0  540165.0  537535.0   17213.132474  1.766087e+00   34.004569\n",
       "3               vintage     154.347397     154.0    10.0     299.0     289.0      83.671194  3.029517e-03   -1.200688\n",
       "4              response       0.122563       0.0     0.0       1.0       1.0       0.327935  2.301906e+00    3.298788\n",
       "5                   age      38.822584      36.0    20.0      85.0      65.0      15.511591  6.725390e-01   -0.565655\n",
       "6           region_code      26.388807      28.0     0.0      52.0      52.0      13.229871 -1.152664e-01   -0.867857\n",
       "7  policy_sales_channel     112.034295     133.0     1.0     163.0     162.0      54.203924 -9.000081e-01   -0.970810\n",
       "8       driving_license       0.997869       1.0     0.0       1.0       1.0       0.046109 -2.159518e+01  464.354302"
      ]
     },
     "execution_count": 13,
     "metadata": {},
     "output_type": "execute_result"
    }
   ],
   "source": [
    "# =========================== TENDENCY CENTRAL =============================================== #\n",
    "\n",
    "#mean and median \n",
    "t1 = pd.DataFrame( num_attributes.apply( lambda x: np.mean(x)  ) ).T\n",
    "t2 = pd.DataFrame( num_attributes.apply( lambda x: np.median(x) ) ).T\n",
    "\n",
    "#\n",
    "#min\n",
    "d1 = pd.DataFrame( num_attributes.apply(lambda x: np.min(x) ) ).T\n",
    "\n",
    "#max\n",
    "d2 = pd.DataFrame( num_attributes.apply(lambda x: np.max(x) ) ).T\n",
    "\n",
    "#range\n",
    "d3 = pd.DataFrame( num_attributes.apply(lambda x: np.max(x) - np.min(x) ) ).T\n",
    "\n",
    "#std \n",
    "d4 = pd.DataFrame( num_attributes.apply(lambda x: np.std(x) ) ).T\n",
    "\n",
    "#skew\n",
    "d5 = pd.DataFrame( num_attributes.apply(lambda x: x.skew() ) ).T\n",
    "\n",
    "#kurtosis\n",
    "d6 = pd.DataFrame( num_attributes.apply(lambda x: x.kurtosis() ) ).T\n",
    "\n",
    "#concat the columns of metrics\n",
    "metric = pd.concat( [t1,t2,d1,d2,d3,d4,d5,d6] ).T.reset_index()\n",
    "\n",
    "#rename the columns\n",
    "metric.columns = ['attributes','mean','median','min','max','range','std','skew','kurtosis']\n",
    "\n",
    "#result\n",
    "metric"
   ]
  },
  {
   "cell_type": "code",
   "execution_count": 14,
   "id": "e986aafb",
   "metadata": {
    "ExecuteTime": {
     "end_time": "2022-09-07T14:09:08.901880Z",
     "start_time": "2022-09-07T14:09:07.774259Z"
    }
   },
   "outputs": [
    {
     "data": {
      "image/png": "[encoded data removed]",
      "text/plain": [
       "<Figure size 2500x1200 with 1 Axes>"
      ]
     },
     "metadata": {},
     "output_type": "display_data"
    }
   ],
   "source": [
    "sns.histplot(df1['age'],bins=30);"
   ]
  },
  {
   "cell_type": "markdown",
   "id": "8989faee",
   "metadata": {},
   "source": [
    "## 1.7.1 CATEGORICAL ATTRIBUTES"
   ]
  },
  {
   "cell_type": "code",
   "execution_count": 15,
   "id": "1041bbd6",
   "metadata": {
    "ExecuteTime": {
     "end_time": "2022-09-07T14:09:14.969344Z",
     "start_time": "2022-09-07T14:09:14.849423Z"
    }
   },
   "outputs": [
    {
     "data": {
      "text/plain": [
       "gender            2\n",
       "vehicle_age       3\n",
       "vehicle_damage    2\n",
       "dtype: int64"
      ]
     },
     "execution_count": 15,
     "metadata": {},
     "output_type": "execute_result"
    }
   ],
   "source": [
    "#numbers of categorical attributes by feature\n",
    "cat_attributes.apply(lambda x: x.unique().shape[0] )"
   ]
  },
  {
   "cell_type": "code",
   "execution_count": 57,
   "id": "354af932",
   "metadata": {
    "ExecuteTime": {
     "end_time": "2022-09-05T23:59:19.113995Z",
     "start_time": "2022-09-05T23:59:19.011401Z"
    }
   },
   "outputs": [],
   "source": [
    "#filtering the dataset with the people that has not driving licence\n",
    "aux = df1.loc[df1['driving_license']==1]"
   ]
  },
  {
   "cell_type": "code",
   "execution_count": 59,
   "id": "9691e006",
   "metadata": {
    "ExecuteTime": {
     "end_time": "2022-09-06T00:00:40.345343Z",
     "start_time": "2022-09-06T00:00:37.436164Z"
    }
   },
   "outputs": [
    {
     "data": {
      "image/png": "[encoded data removed]",
      "text/plain": [
       "<Figure size 2500x1200 with 3 Axes>"
      ]
     },
     "metadata": {},
     "output_type": "display_data"
    }
   ],
   "source": [
    "#plot of gender\n",
    "plt.subplot(1,3,1)\n",
    "sns.histplot(aux['gender'],bins=30);\n",
    "\n",
    "#plot of vehicle age\n",
    "plt.subplot(1,3,2)\n",
    "sns.histplot(aux['vehicle_age'],bins=30);\n",
    "\n",
    "#plot of vehicle damage\n",
    "plt.subplot(1,3,3)\n",
    "sns.histplot(aux['vehicle_damage'],bins=30);"
   ]
  }
 ],
 "metadata": {
  "kernelspec": {
   "display_name": "Python 3 (ipykernel)",
   "language": "python",
   "name": "python3"
  },
  "language_info": {
   "codemirror_mode": {
    "name": "ipython",
    "version": 3
   },
   "file_extension": ".py",
   "mimetype": "text/x-python",
   "name": "python",
   "nbconvert_exporter": "python",
   "pygments_lexer": "ipython3",
   "version": "3.8.10"
  }
 },
 "nbformat": 4,
 "nbformat_minor": 5
}
